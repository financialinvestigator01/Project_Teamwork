{
 "cells": [
  {
   "cell_type": "markdown",
   "metadata": {},
   "source": [
    "# Load Dependencies"
   ]
  },
  {
   "cell_type": "code",
   "execution_count": 6,
   "metadata": {},
   "outputs": [],
   "source": [
    "#%matplotlib notebook\n",
    "%matplotlib inline\n",
    "\n",
    "#dependencies and setup\n",
    "\n",
    "import matplotlib.pyplot as plt\n",
    "import pandas as pd\n",
    "import numpy as np\n",
    "import os"
   ]
  },
  {
   "cell_type": "markdown",
   "metadata": {},
   "source": [
    "# Files to Load"
   ]
  },
  {
   "cell_type": "code",
   "execution_count": 7,
   "metadata": {},
   "outputs": [
    {
     "name": "stderr",
     "output_type": "stream",
     "text": [
      "C:\\Users\\asher\\Anaconda3\\envs\\PythonData\\lib\\site-packages\\IPython\\core\\interactiveshell.py:3020: DtypeWarning: Columns (20) have mixed types. Specify dtype option on import or set low_memory=False.\n",
      "  interactivity=interactivity, compiler=compiler, result=result)\n"
     ]
    }
   ],
   "source": [
    "#Files to Load\n",
    "cleaned_poverty_df = 'Cleaned_Data/cleaned_poverty_df.csv'\n",
    "cleaned_unemployment_df = 'Cleaned_Data/cleaned_unemployment_df.csv'\n",
    "cleaned_unemployment_rate_df = 'Cleaned_Data/cleaned_unemployment_rate_df.csv'\n",
    "crime_df = 'Cleaned_Data/crime_df.csv'\n",
    "crime_police_merged = 'Cleaned_Data/crime_police_merged.csv'\n",
    "police_count_2014_2017_df = 'Cleaned_Data/police_count_2014_2017_df.csv'\n",
    "police_df = 'Cleaned_Data/police_df.csv'\n",
    "\n",
    "#Files to Read\n",
    "cleaned_poverty_df = pd.read_csv(cleaned_poverty_df)\n",
    "cleaned_unemployment_df = pd.read_csv(cleaned_unemployment_df)\n",
    "cleaned_unemployment_rate_df = pd.read_csv(cleaned_unemployment_rate_df)\n",
    "crime_df = pd.read_csv(crime_df)\n",
    "crime_police_merged = pd.read_csv(crime_police_merged)\n",
    "police_count_2014_2017_df = pd.read_csv(police_count_2014_2017_df)\n",
    "police_df = pd.read_csv(police_df)"
   ]
  },
  {
   "cell_type": "markdown",
   "metadata": {},
   "source": [
    "# People per Officer"
   ]
  },
  {
   "cell_type": "code",
   "execution_count": 10,
   "metadata": {},
   "outputs": [
    {
     "data": {
      "image/png": "[encoded data removed]",
      "text/plain": [
       "<Figure size 432x288 with 1 Axes>"
      ]
     },
     "metadata": {
      "needs_background": "light"
     },
     "output_type": "display_data"
    }
   ],
   "source": [
    "pos = np.arange(10)\n",
    "width = 0.2\n",
    "\n",
    "police_count_2014_2017_df = police_count_2014_2017_df.head(10)\n",
    "# Plotting the bars\n",
    "fig, ax = plt.subplots()\n",
    "\n",
    "# Create a bar with 2014 data,\n",
    "# in position pos,\n",
    "plt.bar(pos, police_count_2014_2017_df['2014 People per Officer'], width, alpha=1, color='r', \n",
    "        label=police_count_2014_2017_df['State Abbr.'])\n",
    "\n",
    "# Create a bar with 2015 data,\n",
    "# in position pos + some width buffer,\n",
    "plt.bar([p + width for p in pos], police_count_2014_2017_df['2015 People per Officer'], width, alpha=1, color='b', \n",
    "        label=police_count_2014_2017_df['State Abbr.'])\n",
    "\n",
    "# Create a bar with 2016 data,\n",
    "# in position pos + some width buffer,\n",
    "plt.bar([p + width*2 for p in pos], police_count_2014_2017_df['2016 People per Officer'], width, alpha=1, color='g', \n",
    "        label=police_count_2014_2017_df['State Abbr.'])\n",
    "\n",
    "# Create a bar with 2017 data,\n",
    "# in position pos + some width buffer,\n",
    "plt.bar([p + width*3 for p in pos], police_count_2014_2017_df['2017 People per Officer'], width, alpha=1, color='y',\n",
    "        label=police_count_2014_2017_df['State Abbr.'])\n",
    "\n",
    "# Set the y axis label\n",
    "ax.set_ylabel('Number of People per Officer')\n",
    "\n",
    "# Set the chart's title\n",
    "ax.set_title('Number of People per Officer by State and Year')\n",
    "\n",
    "# Set the position of the x ticks\n",
    "ax.set_xticks([p + 1.5 * width for p in pos])\n",
    "\n",
    "# Set the labels for the x ticks\n",
    "ax.set_xticklabels(police_count_2014_2017_df['State Abbr.'])\n",
    "\n",
    "# Setting the x-axis and y-axis limits\n",
    "plt.xlim(min(pos) - 0.5, 10 + width)\n",
    "plt.ylim(0, max(police_count_2014_2017_df['2017 People per Officer']+50))\n",
    "\n",
    "# Adding the legend and showing the plot\n",
    "plt.legend(['2014', '2015', '2016', '2017'], loc='upper left')\n",
    "plt.grid()\n",
    "plt.show()"
   ]
  },
  {
   "cell_type": "code",
   "execution_count": null,
   "metadata": {},
   "outputs": [],
   "source": []
  }
 ],
 "metadata": {
  "kernelspec": {
   "display_name": "Python (PythonData)",
   "language": "python",
   "name": "pythondata"
  },
  "language_info": {
   "codemirror_mode": {
    "name": "ipython",
    "version": 3
   },
   "file_extension": ".py",
   "mimetype": "text/x-python",
   "name": "python",
   "nbconvert_exporter": "python",
   "pygments_lexer": "ipython3",
   "version": "3.7.1"
  }
 },
 "nbformat": 4,
 "nbformat_minor": 2
}

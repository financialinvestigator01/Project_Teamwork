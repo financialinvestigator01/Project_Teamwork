{
 "cells": [
  {
   "cell_type": "markdown",
   "metadata": {},
   "source": [
    "# Load Dependencies"
   ]
  },
  {
   "cell_type": "code",
   "execution_count": 35,
   "metadata": {},
   "outputs": [],
   "source": [
    "#%matplotlib notebook\n",
    "%matplotlib inline\n",
    "\n",
    "#dependencies and setup\n",
    "\n",
    "import matplotlib.pyplot as plt\n",
    "import pandas as pd\n",
    "import numpy as np\n",
    "import os"
   ]
  },
  {
   "cell_type": "markdown",
   "metadata": {},
   "source": [
    "# Files to Load"
   ]
  },
  {
   "cell_type": "code",
   "execution_count": 36,
   "metadata": {},
   "outputs": [],
   "source": [
    "#Files to Load\n",
    "cleaned_poverty_df = 'Cleaned_Data/cleaned_poverty_df.csv'\n",
    "cleaned_unemployment_df = 'Cleaned_Data/cleaned_unemployment_df.csv'\n",
    "cleaned_unemployment_rate_df = 'Cleaned_Data/cleaned_unemployment_rate_df.csv'\n",
    "crime_df = 'Cleaned_Data/crime_df.csv'\n",
    "crime_police_merged = 'Cleaned_Data/crime_police_merged.csv'\n",
    "police_count_2014_2017_df = 'Cleaned_Data/police_count_2014_2017_df.csv'\n",
    "police_df = 'Cleaned_Data/police_df.csv'\n",
    "\n",
    "#Files to Read\n",
    "cleaned_poverty_df = pd.read_csv(cleaned_poverty_df)\n",
    "cleaned_unemployment_df = pd.read_csv(cleaned_unemployment_df)\n",
    "cleaned_unemployment_rate_df = pd.read_csv(cleaned_unemployment_rate_df)\n",
    "crime_df = pd.read_csv(crime_df)\n",
    "crime_police_merged = pd.read_csv(crime_police_merged)\n",
    "police_count_2014_2017_df = pd.read_csv(police_count_2014_2017_df)\n",
    "police_df = pd.read_csv(police_df)\n"
   ]
  },
  {
   "cell_type": "markdown",
   "metadata": {},
   "source": [
    "# California Population vs Hate Crime Count"
   ]
  },
  {
   "cell_type": "code",
   "execution_count": 37,
   "metadata": {},
   "outputs": [],
   "source": [
    "df = pd.DataFrame(crime_df, columns = ['Year', 'State Abbr.', 'Total Offender Count'])\n",
    "\n",
    "#select only years 2014-2017\n",
    "only_year_2014 = (df[\"Year\"] == 2014)\n",
    "only_year_2015 = (df[\"Year\"] == 2015)\n",
    "only_year_2016 = (df[\"Year\"] == 2016)\n",
    "only_year_2017 = (df[\"Year\"] == 2017) \n",
    "\n",
    "crime_2014_df = df.loc[only_year_2014]\n",
    "crime_2015_df = df.loc[only_year_2015]\n",
    "crime_2016_df = df.loc[only_year_2016]\n",
    "crime_2017_df = df.loc[only_year_2017]\n"
   ]
  },
  {
   "cell_type": "code",
   "execution_count": 38,
   "metadata": {},
   "outputs": [
    {
     "data": {
      "text/html": [
       "<div>\n",
       "<style scoped>\n",
       "    .dataframe tbody tr th:only-of-type {\n",
       "        vertical-align: middle;\n",
       "    }\n",
       "\n",
       "    .dataframe tbody tr th {\n",
       "        vertical-align: top;\n",
       "    }\n",
       "\n",
       "    .dataframe thead th {\n",
       "        text-align: right;\n",
       "    }\n",
       "</style>\n",
       "<table border=\"1\" class=\"dataframe\">\n",
       "  <thead>\n",
       "    <tr style=\"text-align: right;\">\n",
       "      <th></th>\n",
       "      <th>State Abbr.</th>\n",
       "      <th>2014 Total Offender Count</th>\n",
       "    </tr>\n",
       "  </thead>\n",
       "  <tbody>\n",
       "    <tr>\n",
       "      <th>4</th>\n",
       "      <td>CA</td>\n",
       "      <td>800</td>\n",
       "    </tr>\n",
       "    <tr>\n",
       "      <th>33</th>\n",
       "      <td>NY</td>\n",
       "      <td>626</td>\n",
       "    </tr>\n",
       "    <tr>\n",
       "      <th>34</th>\n",
       "      <td>OH</td>\n",
       "      <td>378</td>\n",
       "    </tr>\n",
       "    <tr>\n",
       "      <th>21</th>\n",
       "      <td>MI</td>\n",
       "      <td>348</td>\n",
       "    </tr>\n",
       "    <tr>\n",
       "      <th>18</th>\n",
       "      <td>MA</td>\n",
       "      <td>277</td>\n",
       "    </tr>\n",
       "  </tbody>\n",
       "</table>\n",
       "</div>"
      ],
      "text/plain": [
       "   State Abbr.  2014 Total Offender Count\n",
       "4           CA                        800\n",
       "33          NY                        626\n",
       "34          OH                        378\n",
       "21          MI                        348\n",
       "18          MA                        277"
      ]
     },
     "execution_count": 38,
     "metadata": {},
     "output_type": "execute_result"
    }
   ],
   "source": [
    "groupby_year_2014 = crime_2014_df.groupby([\"State Abbr.\"])\n",
    "crime_count_2014 = groupby_year_2014[\"Total Offender Count\"].sum()\n",
    "crime_count_2014 = pd.DataFrame(crime_count_2014)\n",
    "crime_count_2014 = crime_count_2014.reset_index()\n",
    "crime_count_2014 = crime_count_2014.rename(columns={'Total Offender Count' : '2014 Total Offender Count'})\n",
    "crime_count_2014 = crime_count_2014.sort_values('2014 Total Offender Count', ascending=False)\n",
    "crime_count_2014.head()\n"
   ]
  },
  {
   "cell_type": "code",
   "execution_count": 39,
   "metadata": {},
   "outputs": [
    {
     "data": {
      "text/html": [
       "<div>\n",
       "<style scoped>\n",
       "    .dataframe tbody tr th:only-of-type {\n",
       "        vertical-align: middle;\n",
       "    }\n",
       "\n",
       "    .dataframe tbody tr th {\n",
       "        vertical-align: top;\n",
       "    }\n",
       "\n",
       "    .dataframe thead th {\n",
       "        text-align: right;\n",
       "    }\n",
       "</style>\n",
       "<table border=\"1\" class=\"dataframe\">\n",
       "  <thead>\n",
       "    <tr style=\"text-align: right;\">\n",
       "      <th></th>\n",
       "      <th>State Abbr.</th>\n",
       "      <th>2015 Total Offender Count</th>\n",
       "    </tr>\n",
       "  </thead>\n",
       "  <tbody>\n",
       "    <tr>\n",
       "      <th>4</th>\n",
       "      <td>CA</td>\n",
       "      <td>839</td>\n",
       "    </tr>\n",
       "    <tr>\n",
       "      <th>33</th>\n",
       "      <td>NY</td>\n",
       "      <td>575</td>\n",
       "    </tr>\n",
       "    <tr>\n",
       "      <th>34</th>\n",
       "      <td>OH</td>\n",
       "      <td>358</td>\n",
       "    </tr>\n",
       "    <tr>\n",
       "      <th>19</th>\n",
       "      <td>MA</td>\n",
       "      <td>317</td>\n",
       "    </tr>\n",
       "    <tr>\n",
       "      <th>22</th>\n",
       "      <td>MI</td>\n",
       "      <td>292</td>\n",
       "    </tr>\n",
       "  </tbody>\n",
       "</table>\n",
       "</div>"
      ],
      "text/plain": [
       "   State Abbr.  2015 Total Offender Count\n",
       "4           CA                        839\n",
       "33          NY                        575\n",
       "34          OH                        358\n",
       "19          MA                        317\n",
       "22          MI                        292"
      ]
     },
     "execution_count": 39,
     "metadata": {},
     "output_type": "execute_result"
    }
   ],
   "source": [
    "groupby_year_2015 = crime_2015_df.groupby([\"State Abbr.\"])\n",
    "crime_count_2015 = groupby_year_2015[\"Total Offender Count\"].sum()\n",
    "crime_count_2015 = pd.DataFrame(crime_count_2015)\n",
    "crime_count_2015 = crime_count_2015.reset_index()\n",
    "crime_count_2015 = crime_count_2015.rename(columns={'Total Offender Count' : '2015 Total Offender Count'})\n",
    "crime_count_2015 = crime_count_2015.sort_values('2015 Total Offender Count', ascending=False)\n",
    "crime_count_2015.head()\n"
   ]
  },
  {
   "cell_type": "code",
   "execution_count": 40,
   "metadata": {},
   "outputs": [
    {
     "data": {
      "text/html": [
       "<div>\n",
       "<style scoped>\n",
       "    .dataframe tbody tr th:only-of-type {\n",
       "        vertical-align: middle;\n",
       "    }\n",
       "\n",
       "    .dataframe tbody tr th {\n",
       "        vertical-align: top;\n",
       "    }\n",
       "\n",
       "    .dataframe thead th {\n",
       "        text-align: right;\n",
       "    }\n",
       "</style>\n",
       "<table border=\"1\" class=\"dataframe\">\n",
       "  <thead>\n",
       "    <tr style=\"text-align: right;\">\n",
       "      <th></th>\n",
       "      <th>State Abbr.</th>\n",
       "      <th>2016 Total Offender Count</th>\n",
       "    </tr>\n",
       "  </thead>\n",
       "  <tbody>\n",
       "    <tr>\n",
       "      <th>4</th>\n",
       "      <td>CA</td>\n",
       "      <td>982</td>\n",
       "    </tr>\n",
       "    <tr>\n",
       "      <th>33</th>\n",
       "      <td>NY</td>\n",
       "      <td>628</td>\n",
       "    </tr>\n",
       "    <tr>\n",
       "      <th>34</th>\n",
       "      <td>OH</td>\n",
       "      <td>407</td>\n",
       "    </tr>\n",
       "    <tr>\n",
       "      <th>46</th>\n",
       "      <td>WA</td>\n",
       "      <td>388</td>\n",
       "    </tr>\n",
       "    <tr>\n",
       "      <th>21</th>\n",
       "      <td>MI</td>\n",
       "      <td>384</td>\n",
       "    </tr>\n",
       "  </tbody>\n",
       "</table>\n",
       "</div>"
      ],
      "text/plain": [
       "   State Abbr.  2016 Total Offender Count\n",
       "4           CA                        982\n",
       "33          NY                        628\n",
       "34          OH                        407\n",
       "46          WA                        388\n",
       "21          MI                        384"
      ]
     },
     "execution_count": 40,
     "metadata": {},
     "output_type": "execute_result"
    }
   ],
   "source": [
    "groupby_year_2016 = crime_2016_df.groupby([\"State Abbr.\"])\n",
    "crime_count_2016 = groupby_year_2016[\"Total Offender Count\"].sum()\n",
    "crime_count_2016 = pd.DataFrame(crime_count_2016)\n",
    "crime_count_2016 = crime_count_2016.reset_index()\n",
    "crime_count_2016 = crime_count_2016.rename(columns={'Total Offender Count' : '2016 Total Offender Count'})\n",
    "crime_count_2016 = crime_count_2016.sort_values('2016 Total Offender Count', ascending=False)\n",
    "crime_count_2016.head()\n"
   ]
  },
  {
   "cell_type": "code",
   "execution_count": 41,
   "metadata": {},
   "outputs": [
    {
     "data": {
      "text/html": [
       "<div>\n",
       "<style scoped>\n",
       "    .dataframe tbody tr th:only-of-type {\n",
       "        vertical-align: middle;\n",
       "    }\n",
       "\n",
       "    .dataframe tbody tr th {\n",
       "        vertical-align: top;\n",
       "    }\n",
       "\n",
       "    .dataframe thead th {\n",
       "        text-align: right;\n",
       "    }\n",
       "</style>\n",
       "<table border=\"1\" class=\"dataframe\">\n",
       "  <thead>\n",
       "    <tr style=\"text-align: right;\">\n",
       "      <th></th>\n",
       "      <th>State Abbr.</th>\n",
       "      <th>2017 Total Offender Count</th>\n",
       "    </tr>\n",
       "  </thead>\n",
       "  <tbody>\n",
       "    <tr>\n",
       "      <th>4</th>\n",
       "      <td>CA</td>\n",
       "      <td>1014</td>\n",
       "    </tr>\n",
       "    <tr>\n",
       "      <th>33</th>\n",
       "      <td>NY</td>\n",
       "      <td>619</td>\n",
       "    </tr>\n",
       "    <tr>\n",
       "      <th>46</th>\n",
       "      <td>WA</td>\n",
       "      <td>392</td>\n",
       "    </tr>\n",
       "    <tr>\n",
       "      <th>34</th>\n",
       "      <td>OH</td>\n",
       "      <td>350</td>\n",
       "    </tr>\n",
       "    <tr>\n",
       "      <th>16</th>\n",
       "      <td>KY</td>\n",
       "      <td>344</td>\n",
       "    </tr>\n",
       "  </tbody>\n",
       "</table>\n",
       "</div>"
      ],
      "text/plain": [
       "   State Abbr.  2017 Total Offender Count\n",
       "4           CA                       1014\n",
       "33          NY                        619\n",
       "46          WA                        392\n",
       "34          OH                        350\n",
       "16          KY                        344"
      ]
     },
     "execution_count": 41,
     "metadata": {},
     "output_type": "execute_result"
    }
   ],
   "source": [
    "groupby_year_2017 = crime_2017_df.groupby([\"State Abbr.\"])\n",
    "crime_count_2017 = groupby_year_2017[\"Total Offender Count\"].sum()\n",
    "crime_count_2017 = pd.DataFrame(crime_count_2017)\n",
    "crime_count_2017 = crime_count_2017.reset_index()\n",
    "crime_count_2017 = crime_count_2017.rename(columns={'Total Offender Count' : '2017 Total Offender Count'})\n",
    "crime_count_2017 = crime_count_2017.sort_values('2017 Total Offender Count', ascending=False)\n",
    "crime_count_2017.head()\n"
   ]
  },
  {
   "cell_type": "code",
   "execution_count": 42,
   "metadata": {},
   "outputs": [
    {
     "data": {
      "text/html": [
       "<div>\n",
       "<style scoped>\n",
       "    .dataframe tbody tr th:only-of-type {\n",
       "        vertical-align: middle;\n",
       "    }\n",
       "\n",
       "    .dataframe tbody tr th {\n",
       "        vertical-align: top;\n",
       "    }\n",
       "\n",
       "    .dataframe thead th {\n",
       "        text-align: right;\n",
       "    }\n",
       "</style>\n",
       "<table border=\"1\" class=\"dataframe\">\n",
       "  <thead>\n",
       "    <tr style=\"text-align: right;\">\n",
       "      <th></th>\n",
       "      <th>State Abbr.</th>\n",
       "      <th>2014 Total Offender Count</th>\n",
       "      <th>2015 Total Offender Count</th>\n",
       "      <th>2016 Total Offender Count</th>\n",
       "      <th>2017 Total Offender Count</th>\n",
       "    </tr>\n",
       "  </thead>\n",
       "  <tbody>\n",
       "    <tr>\n",
       "      <th>0</th>\n",
       "      <td>CA</td>\n",
       "      <td>800</td>\n",
       "      <td>839</td>\n",
       "      <td>982</td>\n",
       "      <td>1014</td>\n",
       "    </tr>\n",
       "    <tr>\n",
       "      <th>1</th>\n",
       "      <td>NY</td>\n",
       "      <td>626</td>\n",
       "      <td>575</td>\n",
       "      <td>628</td>\n",
       "      <td>619</td>\n",
       "    </tr>\n",
       "    <tr>\n",
       "      <th>2</th>\n",
       "      <td>OH</td>\n",
       "      <td>378</td>\n",
       "      <td>358</td>\n",
       "      <td>407</td>\n",
       "      <td>350</td>\n",
       "    </tr>\n",
       "    <tr>\n",
       "      <th>3</th>\n",
       "      <td>MI</td>\n",
       "      <td>348</td>\n",
       "      <td>292</td>\n",
       "      <td>384</td>\n",
       "      <td>332</td>\n",
       "    </tr>\n",
       "    <tr>\n",
       "      <th>4</th>\n",
       "      <td>MA</td>\n",
       "      <td>277</td>\n",
       "      <td>317</td>\n",
       "      <td>243</td>\n",
       "      <td>258</td>\n",
       "    </tr>\n",
       "  </tbody>\n",
       "</table>\n",
       "</div>"
      ],
      "text/plain": [
       "  State Abbr.  2014 Total Offender Count  2015 Total Offender Count  \\\n",
       "0          CA                        800                        839   \n",
       "1          NY                        626                        575   \n",
       "2          OH                        378                        358   \n",
       "3          MI                        348                        292   \n",
       "4          MA                        277                        317   \n",
       "\n",
       "   2016 Total Offender Count  2017 Total Offender Count  \n",
       "0                        982                       1014  \n",
       "1                        628                        619  \n",
       "2                        407                        350  \n",
       "3                        384                        332  \n",
       "4                        243                        258  "
      ]
     },
     "execution_count": 42,
     "metadata": {},
     "output_type": "execute_result"
    }
   ],
   "source": [
    "#merge years\n",
    "df_2014_2015_merge = pd.merge(crime_count_2014, crime_count_2015, on='State Abbr.')\n",
    "df_2016_2017_merge = pd.merge(crime_count_2016, crime_count_2017, on='State Abbr.')\n",
    "df_2016_2017_merge = pd.merge(df_2014_2015_merge, df_2016_2017_merge, on='State Abbr.')\n",
    "df_2016_2017_merge.head()\n"
   ]
  },
  {
   "cell_type": "code",
   "execution_count": 43,
   "metadata": {},
   "outputs": [
    {
     "data": {
      "text/html": [
       "<div>\n",
       "<style scoped>\n",
       "    .dataframe tbody tr th:only-of-type {\n",
       "        vertical-align: middle;\n",
       "    }\n",
       "\n",
       "    .dataframe tbody tr th {\n",
       "        vertical-align: top;\n",
       "    }\n",
       "\n",
       "    .dataframe thead th {\n",
       "        text-align: right;\n",
       "    }\n",
       "</style>\n",
       "<table border=\"1\" class=\"dataframe\">\n",
       "  <thead>\n",
       "    <tr style=\"text-align: right;\">\n",
       "      <th></th>\n",
       "      <th>State Abbr.</th>\n",
       "      <th>2014 Officer Count</th>\n",
       "      <th>2014 Total Offender Count</th>\n",
       "      <th>2014 Population</th>\n",
       "      <th>2015 Officer Count</th>\n",
       "      <th>2015 Total Offender Count</th>\n",
       "      <th>2015 Population</th>\n",
       "      <th>2016 Officer Count</th>\n",
       "      <th>2016 Total Offender Count</th>\n",
       "      <th>2016 Population</th>\n",
       "      <th>2017 Officer Count</th>\n",
       "      <th>2017 Total Offender Count</th>\n",
       "      <th>2017 Population</th>\n",
       "    </tr>\n",
       "  </thead>\n",
       "  <tbody>\n",
       "    <tr>\n",
       "      <th>0</th>\n",
       "      <td>CA</td>\n",
       "      <td>78443.0</td>\n",
       "      <td>800</td>\n",
       "      <td>38970399</td>\n",
       "      <td>78873.0</td>\n",
       "      <td>839</td>\n",
       "      <td>39469712</td>\n",
       "      <td>79005.0</td>\n",
       "      <td>982</td>\n",
       "      <td>39454294</td>\n",
       "      <td>78740.0</td>\n",
       "      <td>1014</td>\n",
       "      <td>39713887</td>\n",
       "    </tr>\n",
       "    <tr>\n",
       "      <th>1</th>\n",
       "      <td>NY</td>\n",
       "      <td>62927.0</td>\n",
       "      <td>626</td>\n",
       "      <td>21799396</td>\n",
       "      <td>64142.0</td>\n",
       "      <td>575</td>\n",
       "      <td>21811666</td>\n",
       "      <td>65342.0</td>\n",
       "      <td>628</td>\n",
       "      <td>21809118</td>\n",
       "      <td>62433.0</td>\n",
       "      <td>619</td>\n",
       "      <td>21794544</td>\n",
       "    </tr>\n",
       "    <tr>\n",
       "      <th>2</th>\n",
       "      <td>TX</td>\n",
       "      <td>57279.0</td>\n",
       "      <td>182</td>\n",
       "      <td>27240637</td>\n",
       "      <td>57185.0</td>\n",
       "      <td>199</td>\n",
       "      <td>27801749</td>\n",
       "      <td>57831.0</td>\n",
       "      <td>195</td>\n",
       "      <td>28685684</td>\n",
       "      <td>43780.0</td>\n",
       "      <td>208</td>\n",
       "      <td>28467008</td>\n",
       "    </tr>\n",
       "    <tr>\n",
       "      <th>3</th>\n",
       "      <td>FL</td>\n",
       "      <td>45921.0</td>\n",
       "      <td>43</td>\n",
       "      <td>20007473</td>\n",
       "      <td>49130.0</td>\n",
       "      <td>61</td>\n",
       "      <td>20388277</td>\n",
       "      <td>49488.0</td>\n",
       "      <td>107</td>\n",
       "      <td>20750677</td>\n",
       "      <td>45976.0</td>\n",
       "      <td>196</td>\n",
       "      <td>21152963</td>\n",
       "    </tr>\n",
       "    <tr>\n",
       "      <th>4</th>\n",
       "      <td>GA</td>\n",
       "      <td>38723.0</td>\n",
       "      <td>50</td>\n",
       "      <td>10503162</td>\n",
       "      <td>39382.0</td>\n",
       "      <td>39</td>\n",
       "      <td>10812277</td>\n",
       "      <td>39152.0</td>\n",
       "      <td>37</td>\n",
       "      <td>10662998</td>\n",
       "      <td>24694.0</td>\n",
       "      <td>20</td>\n",
       "      <td>10885394</td>\n",
       "    </tr>\n",
       "  </tbody>\n",
       "</table>\n",
       "</div>"
      ],
      "text/plain": [
       "  State Abbr.  2014 Officer Count  2014 Total Offender Count  2014 Population  \\\n",
       "0          CA             78443.0                        800         38970399   \n",
       "1          NY             62927.0                        626         21799396   \n",
       "2          TX             57279.0                        182         27240637   \n",
       "3          FL             45921.0                         43         20007473   \n",
       "4          GA             38723.0                         50         10503162   \n",
       "\n",
       "   2015 Officer Count  2015 Total Offender Count  2015 Population  \\\n",
       "0             78873.0                        839         39469712   \n",
       "1             64142.0                        575         21811666   \n",
       "2             57185.0                        199         27801749   \n",
       "3             49130.0                         61         20388277   \n",
       "4             39382.0                         39         10812277   \n",
       "\n",
       "   2016 Officer Count  2016 Total Offender Count  2016 Population  \\\n",
       "0             79005.0                        982         39454294   \n",
       "1             65342.0                        628         21809118   \n",
       "2             57831.0                        195         28685684   \n",
       "3             49488.0                        107         20750677   \n",
       "4             39152.0                         37         10662998   \n",
       "\n",
       "   2017 Officer Count  2017 Total Offender Count  2017 Population  \n",
       "0             78740.0                       1014         39713887  \n",
       "1             62433.0                        619         21794544  \n",
       "2             43780.0                        208         28467008  \n",
       "3             45976.0                        196         21152963  \n",
       "4             24694.0                         20         10885394  "
      ]
     },
     "execution_count": 43,
     "metadata": {},
     "output_type": "execute_result"
    }
   ],
   "source": [
    "police_count_2014_2017_df_merged = pd.merge(police_count_2014_2017_df, df_2016_2017_merge, on='State Abbr.')\n",
    "df2 = pd.DataFrame(police_count_2014_2017_df_merged, columns = ['State Abbr.', '2014 Officer Count',\n",
    "                                                                '2014 Total Offender Count', '2014 Population',\n",
    "                                                                '2015 Officer Count', '2015 Total Offender Count',\n",
    "                                                                '2015 Population', '2016 Officer Count',\n",
    "                                                                '2016 Total Offender Count', '2016 Population',\n",
    "                                                                '2017 Officer Count', '2017 Total Offender Count',\n",
    "                                                                '2017 Population'\n",
    "                                                               ])\n",
    "df2.head()"
   ]
  },
  {
   "cell_type": "markdown",
   "metadata": {},
   "source": [
    "# Graph - California Population vs Crime"
   ]
  },
  {
   "cell_type": "code",
   "execution_count": 44,
   "metadata": {},
   "outputs": [
    {
     "data": {
      "image/png": "[encoded data removed]",
      "text/plain": [
       "<Figure size 432x288 with 1 Axes>"
      ]
     },
     "metadata": {
      "needs_background": "light"
     },
     "output_type": "display_data"
    }
   ],
   "source": [
    "x_axis_pop = (df2.loc[1][3], df2.loc[1][6], df2.loc[1][9], df2.loc[1][12])\n",
    "y_axis_crime = (df2.loc[1][2], df2.loc[1][5], df2.loc[1][8], df2.loc[1][11])\n",
    "\n",
    "plt.xlim(21750000, 21850000)\n",
    "plt.xticks(np.arange(21750000, 21900000, step=100000))\n",
    "\n",
    "plt.plot(x_axis_pop, y_axis_crime)\n",
    "plt.grid()\n",
    "\n",
    "#label the graph\n",
    "plt.title(\"New York Population Size\\n vs Number of Hate Crimes, 2014-2017\", fontsize=14, fontweight = \"bold\")\n",
    "plt.xlabel(\"Population Size (millions)\", fontsize=12, fontweight = \"bold\")\n",
    "plt.ylabel(\"Number of Hate Crimes per Year\", fontsize=12, fontweight = \"bold\")\n",
    "\n",
    "plt.savefig(\"Images/NY_PopSize_vs_Crimes.png\")\n",
    "\n",
    "plt.show()"
   ]
  },
  {
   "cell_type": "markdown",
   "metadata": {},
   "source": [
    "# Graph - California Population vs Officer Count"
   ]
  },
  {
   "cell_type": "code",
   "execution_count": 45,
   "metadata": {},
   "outputs": [
    {
     "data": {
      "image/png": "[encoded data removed]",
      "text/plain": [
       "<Figure size 432x288 with 1 Axes>"
      ]
     },
     "metadata": {
      "needs_background": "light"
     },
     "output_type": "display_data"
    }
   ],
   "source": [
    "x_axis_pop = (df2.loc[1][3], df2.loc[1][6], df2.loc[1][9], df2.loc[1][12])\n",
    "y_axis_off = (df2.loc[1][1], df2.loc[1][4], df2.loc[1][7], df2.loc[1][10])\n",
    "\n",
    "plt.xlim(21750000, 21850000)\n",
    "plt.xticks(np.arange(21750000, 21900000, step=100000))\n",
    "\n",
    "plt.plot(x_axis_pop, y_axis_off)\n",
    "plt.grid()\n",
    "\n",
    "#label the graph\n",
    "plt.title(\"New York Population Size\\n vs Number of Police Officers, 2014-2017\", fontsize=14, fontweight = \"bold\")\n",
    "plt.xlabel(\"Population Size (millions)\", fontsize=12, fontweight = \"bold\")\n",
    "plt.ylabel(\"Number of Police Officers per Year\", fontsize=12, fontweight = \"bold\")\n",
    "\n",
    "plt.savefig(\"Images/NY_PopSize_vs_Officers.png\")\n",
    "\n",
    "plt.show()"
   ]
  },
  {
   "cell_type": "markdown",
   "metadata": {},
   "source": [
    "# Dual Axis Chart"
   ]
  },
  {
   "cell_type": "code",
   "execution_count": 46,
   "metadata": {},
   "outputs": [
    {
     "data": {
      "image/png": "[encoded data removed]",
      "text/plain": [
       "<Figure size 432x288 with 2 Axes>"
      ]
     },
     "metadata": {
      "needs_background": "light"
     },
     "output_type": "display_data"
    }
   ],
   "source": [
    "#dual axis chart\n",
    "\n",
    "fig, ax1 = plt.subplots()\n",
    "ax1.plot(x_axis_pop, y_axis_crime, 'b')\n",
    "ax1.set_xlabel(\"Population Size (millions)\", fontweight = \"bold\")\n",
    "# Make the y-axis label, ticks and tick labels match the line color.\n",
    "ax1.set_ylabel(\"Number of Hate Crimes per Year\", color='b', fontweight = \"bold\")\n",
    "ax1.tick_params('y', colors='b')\n",
    "\n",
    "ax2 = ax1.twinx()\n",
    "ax2.plot(x_axis_pop, y_axis_off, 'r')\n",
    "ax2.set_ylabel(\"Number of Police Officers per Year\", color='r', fontweight = \"bold\")\n",
    "ax2.tick_params('y', colors='r')\n",
    "\n",
    "fig.tight_layout()\n",
    "plt.grid()\n",
    "\n",
    "plt.title(\"New York Population vs. (x) for 2014-2017\", fontsize=14, fontweight = \"bold\")\n",
    "\n",
    "plt.savefig(\"Images/NY_PopSize_dual_axis.png\")\n",
    "\n",
    "plt.show()"
   ]
  },
  {
   "cell_type": "code",
   "execution_count": null,
   "metadata": {},
   "outputs": [],
   "source": []
  }
 ],
 "metadata": {
  "kernelspec": {
   "display_name": "Python (PythonData)",
   "language": "python",
   "name": "pythondata"
  },
  "language_info": {
   "codemirror_mode": {
    "name": "ipython",
    "version": 3
   },
   "file_extension": ".py",
   "mimetype": "text/x-python",
   "name": "python",
   "nbconvert_exporter": "python",
   "pygments_lexer": "ipython3",
   "version": "3.7.1"
  }
 },
 "nbformat": 4,
 "nbformat_minor": 2
}

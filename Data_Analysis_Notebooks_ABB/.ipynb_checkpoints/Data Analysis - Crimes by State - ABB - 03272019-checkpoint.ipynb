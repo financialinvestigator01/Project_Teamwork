{
 "cells": [
  {
   "cell_type": "markdown",
   "metadata": {},
   "source": [
    "# Load Dependencies"
   ]
  },
  {
   "cell_type": "code",
   "execution_count": 7,
   "metadata": {},
   "outputs": [],
   "source": [
    "#%matplotlib notebook\n",
    "%matplotlib inline\n",
    "\n",
    "#dependencies and setup\n",
    "\n",
    "import matplotlib.pyplot as plt\n",
    "import pandas as pd\n",
    "import numpy as np\n",
    "import os"
   ]
  },
  {
   "cell_type": "markdown",
   "metadata": {},
   "source": [
    "# Files to Load"
   ]
  },
  {
   "cell_type": "code",
   "execution_count": 8,
   "metadata": {},
   "outputs": [
    {
     "name": "stderr",
     "output_type": "stream",
     "text": [
      "C:\\Users\\asher\\Anaconda3\\envs\\PythonData\\lib\\site-packages\\IPython\\core\\interactiveshell.py:3020: DtypeWarning: Columns (20) have mixed types. Specify dtype option on import or set low_memory=False.\n",
      "  interactivity=interactivity, compiler=compiler, result=result)\n"
     ]
    }
   ],
   "source": [
    "#Files to Load\n",
    "cleaned_poverty_df = 'Cleaned_Data/cleaned_poverty_df.csv'\n",
    "cleaned_unemployment_df = 'Cleaned_Data/cleaned_unemployment_df.csv'\n",
    "cleaned_unemployment_rate_df = 'Cleaned_Data/cleaned_unemployment_rate_df.csv'\n",
    "crime_df = 'Cleaned_Data/crime_df.csv'\n",
    "crime_police_merged = 'Cleaned_Data/crime_police_merged.csv'\n",
    "police_count_2014_2017_df = 'Cleaned_Data/police_count_2014_2017_df.csv'\n",
    "police_df = 'Cleaned_Data/police_df.csv'\n",
    "cleaned_ny_unemployment_rate = 'Cleaned_Data/cleaned_ny_unemployment_rate.csv'\n",
    "cleaned_ohio_unemployment_rate = 'Cleaned_Data/cleaned_ohio_unemployment_rate.csv'\n",
    "\n",
    "#Files to Read\n",
    "cleaned_poverty_df = pd.read_csv(cleaned_poverty_df)\n",
    "cleaned_unemployment_df = pd.read_csv(cleaned_unemployment_df)\n",
    "cleaned_unemployment_rate_df = pd.read_csv(cleaned_unemployment_rate_df)\n",
    "crime_df = pd.read_csv(crime_df)\n",
    "crime_police_merged = pd.read_csv(crime_police_merged)\n",
    "police_count_2014_2017_df = pd.read_csv(police_count_2014_2017_df)\n",
    "police_df = pd.read_csv(police_df)\n",
    "cleaned_ny_unemployment_rate = pd.read_csv(cleaned_ny_unemployment_rate)\n",
    "cleaned_ohio_unemployment_rate = pd.read_csv(cleaned_ohio_unemployment_rate)\n"
   ]
  },
  {
   "cell_type": "markdown",
   "metadata": {},
   "source": [
    "# Crimes by State"
   ]
  },
  {
   "cell_type": "code",
   "execution_count": 9,
   "metadata": {},
   "outputs": [],
   "source": [
    "#create new dataframe with columns needed for graph\n",
    "df = pd.DataFrame(crime_df, columns = ['Year', 'State', 'Total Offender Count'])\n",
    "\n",
    "#select years 2014-2017\n",
    "only_year_2014_2017_4 = (df[\"Year\"] >= 2014) & (df[\"Year\"] <= 2017)\n",
    "\n",
    "crime_df_4 = df.loc[only_year_2014_2017_4]\n",
    "\n",
    "#groupby state\n",
    "groupby_year_state = crime_df_4.groupby([\"State\"])\n",
    "\n",
    "#get the total sum of offender count after grouping by the state\n",
    "crime_year_state = groupby_year_state[\"Total Offender Count\"].sum()\n",
    "\n",
    "#create series into dataframe\n",
    "crime_year_state = pd.DataFrame(crime_year_state)\n",
    "\n",
    "#sort the total offender count in descending order to get the states with highest count\n",
    "crime_year_state = crime_year_state.sort_values([\"Total Offender Count\"],ascending=[False]) \n",
    "\n",
    "#reset the index\n",
    "crime_year_state = crime_year_state.reset_index()\n",
    "\n",
    "#select the top 5 states with highest total offender count \n",
    "crime_year_state = crime_year_state.head()"
   ]
  },
  {
   "cell_type": "code",
   "execution_count": 10,
   "metadata": {},
   "outputs": [
    {
     "data": {
      "text/plain": [
       "Text(0, 0.5, 'Total Hate Crime Count')"
      ]
     },
     "execution_count": 10,
     "metadata": {},
     "output_type": "execute_result"
    },
    {
     "data": {
      "image/png": "[encoded data removed]",
      "text/plain": [
       "<Figure size 432x288 with 1 Axes>"
      ]
     },
     "metadata": {
      "needs_background": "light"
     },
     "output_type": "display_data"
    }
   ],
   "source": [
    "#create bar graph\n",
    "\n",
    "#set the x axis\n",
    "state = (crime_year_state[\"State\"])\n",
    "\n",
    "#set the y axis\n",
    "crime = (crime_year_state[\"Total Offender Count\"])\n",
    "\n",
    "#plot the line graph for California \n",
    "bar_chart = plt.bar(state, crime, color=\"b\", align=\"center\")\n",
    "\n",
    "def label_function(labels):\n",
    "    for label in labels:\n",
    "        height = label.get_height()\n",
    "        label_position = height - 300\n",
    "        plt.text(label.get_x() + label.get_width()/2., label_position,\n",
    "                 height, color='white', ha='center', va='bottom')\n",
    "\n",
    "label_function(bar_chart)\n",
    "\n",
    "#set labels\n",
    "plt.title(\"Hate Crimes per State\", fontsize=14, fontweight = \"bold\")\n",
    "plt.xlabel(\"State\", fontsize=12, fontweight = \"bold\")\n",
    "plt.ylabel(\"Total Hate Crime Count\", fontsize=12, fontweight = \"bold\")"
   ]
  },
  {
   "cell_type": "code",
   "execution_count": null,
   "metadata": {},
   "outputs": [],
   "source": []
  }
 ],
 "metadata": {
  "kernelspec": {
   "display_name": "Python (PythonData)",
   "language": "python",
   "name": "pythondata"
  },
  "language_info": {
   "codemirror_mode": {
    "name": "ipython",
    "version": 3
   },
   "file_extension": ".py",
   "mimetype": "text/x-python",
   "name": "python",
   "nbconvert_exporter": "python",
   "pygments_lexer": "ipython3",
   "version": "3.7.1"
  }
 },
 "nbformat": 4,
 "nbformat_minor": 2
}

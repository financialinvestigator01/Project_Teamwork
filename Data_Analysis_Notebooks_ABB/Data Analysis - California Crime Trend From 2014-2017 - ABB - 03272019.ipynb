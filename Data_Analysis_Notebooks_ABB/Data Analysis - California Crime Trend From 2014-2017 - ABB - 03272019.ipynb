{
 "cells": [
  {
   "cell_type": "markdown",
   "metadata": {},
   "source": [
    "# Load Dependencies"
   ]
  },
  {
   "cell_type": "code",
   "execution_count": 1,
   "metadata": {},
   "outputs": [],
   "source": [
    "#%matplotlib notebook\n",
    "%matplotlib inline\n",
    "\n",
    "#dependencies and setup\n",
    "\n",
    "import matplotlib.pyplot as plt\n",
    "import pandas as pd\n",
    "import numpy as np\n",
    "import os"
   ]
  },
  {
   "cell_type": "markdown",
   "metadata": {},
   "source": [
    "# Files to Load"
   ]
  },
  {
   "cell_type": "code",
   "execution_count": 2,
   "metadata": {},
   "outputs": [
    {
     "name": "stderr",
     "output_type": "stream",
     "text": [
      "C:\\Users\\asher\\Anaconda3\\envs\\PythonData\\lib\\site-packages\\IPython\\core\\interactiveshell.py:3020: DtypeWarning: Columns (20) have mixed types. Specify dtype option on import or set low_memory=False.\n",
      "  interactivity=interactivity, compiler=compiler, result=result)\n"
     ]
    }
   ],
   "source": [
    "#Files to Load\n",
    "cleaned_poverty_df = 'Cleaned_Data/cleaned_poverty_df.csv'\n",
    "cleaned_unemployment_df = 'Cleaned_Data/cleaned_unemployment_df.csv'\n",
    "cleaned_unemployment_rate_df = 'Cleaned_Data/cleaned_unemployment_rate_df.csv'\n",
    "crime_df = 'Cleaned_Data/crime_df.csv'\n",
    "crime_police_merged = 'Cleaned_Data/crime_police_merged.csv'\n",
    "police_count_2014_2017_df = 'Cleaned_Data/police_count_2014_2017_df.csv'\n",
    "police_df = 'Cleaned_Data/police_df.csv'\n",
    "\n",
    "#Files to Read\n",
    "cleaned_poverty_df = pd.read_csv(cleaned_poverty_df)\n",
    "cleaned_unemployment_df = pd.read_csv(cleaned_unemployment_df)\n",
    "cleaned_unemployment_rate_df = pd.read_csv(cleaned_unemployment_rate_df)\n",
    "crime_df = pd.read_csv(crime_df)\n",
    "crime_police_merged = pd.read_csv(crime_police_merged)\n",
    "police_count_2014_2017_df = pd.read_csv(police_count_2014_2017_df)\n",
    "police_df = pd.read_csv(police_df)"
   ]
  },
  {
   "cell_type": "markdown",
   "metadata": {},
   "source": [
    "# California Crime Trend From 2014-2017"
   ]
  },
  {
   "cell_type": "code",
   "execution_count": 3,
   "metadata": {
    "scrolled": true
   },
   "outputs": [
    {
     "data": {
      "text/html": [
       "<div>\n",
       "<style scoped>\n",
       "    .dataframe tbody tr th:only-of-type {\n",
       "        vertical-align: middle;\n",
       "    }\n",
       "\n",
       "    .dataframe tbody tr th {\n",
       "        vertical-align: top;\n",
       "    }\n",
       "\n",
       "    .dataframe thead th {\n",
       "        text-align: right;\n",
       "    }\n",
       "</style>\n",
       "<table border=\"1\" class=\"dataframe\">\n",
       "  <thead>\n",
       "    <tr style=\"text-align: right;\">\n",
       "      <th></th>\n",
       "      <th>Year</th>\n",
       "      <th>Total Offender Count</th>\n",
       "    </tr>\n",
       "  </thead>\n",
       "  <tbody>\n",
       "    <tr>\n",
       "      <th>0</th>\n",
       "      <td>2014</td>\n",
       "      <td>800</td>\n",
       "    </tr>\n",
       "    <tr>\n",
       "      <th>1</th>\n",
       "      <td>2015</td>\n",
       "      <td>839</td>\n",
       "    </tr>\n",
       "    <tr>\n",
       "      <th>2</th>\n",
       "      <td>2016</td>\n",
       "      <td>982</td>\n",
       "    </tr>\n",
       "    <tr>\n",
       "      <th>3</th>\n",
       "      <td>2017</td>\n",
       "      <td>1014</td>\n",
       "    </tr>\n",
       "  </tbody>\n",
       "</table>\n",
       "</div>"
      ],
      "text/plain": [
       "   Year  Total Offender Count\n",
       "0  2014                   800\n",
       "1  2015                   839\n",
       "2  2016                   982\n",
       "3  2017                  1014"
      ]
     },
     "execution_count": 3,
     "metadata": {},
     "output_type": "execute_result"
    }
   ],
   "source": [
    "crime_df.head()\n",
    "\n",
    "#create new dataframe with columns needed for line graph\n",
    "df = pd.DataFrame(crime_df, columns = ['Year', 'State', 'Total Offender Count'])\n",
    "\n",
    "#select only years 2014-2017\n",
    "only_year_2014_2017 = (df[\"Year\"] >= 2014) & (df[\"Year\"] <= 2017)\n",
    "\n",
    "crime_df = df.loc[only_year_2014_2017]\n",
    "\n",
    "#select only California from the dataframe \n",
    "only_california = crime_df.loc[crime_df[\"State\"] == \"California\", :]\n",
    "\n",
    "#only_california.head()\n",
    "\n",
    "#groupby the year\n",
    "groupby_year = only_california.groupby([\"Year\"])\n",
    "\n",
    "#take the sum of total offender count after using groupby\n",
    "crime_count_2014 = groupby_year[\"Total Offender Count\"].sum()\n",
    "\n",
    "#convert from series to dataframe\n",
    "crime_count_2014 = pd.DataFrame(crime_count_2014)\n",
    "\n",
    "#reset the index\n",
    "crime_count_2014 = crime_count_2014.reset_index()\n",
    "\n",
    "crime_count_2014"
   ]
  },
  {
   "cell_type": "code",
   "execution_count": 4,
   "metadata": {},
   "outputs": [
    {
     "data": {
      "text/plain": [
       "Text(0, 0.5, 'Year')"
      ]
     },
     "execution_count": 4,
     "metadata": {},
     "output_type": "execute_result"
    },
    {
     "data": {
      "image/png": "[encoded data removed]",
      "text/plain": [
       "<Figure size 432x288 with 1 Axes>"
      ]
     },
     "metadata": {
      "needs_background": "light"
     },
     "output_type": "display_data"
    }
   ],
   "source": [
    "#set the x axis\n",
    "years = (crime_count_2014[\"Year\"])\n",
    "\n",
    "#set the y axis\n",
    "crime = (crime_count_2014[\"Total Offender Count\"])\n",
    "\n",
    "#plot the line graph for California \n",
    "\n",
    "bar_chart = plt.bar(years, crime, color=\"b\", align=\"center\")\n",
    "\n",
    "\n",
    "def label_function(labels):\n",
    "    for label in labels:\n",
    "        height = label.get_height()\n",
    "        label_position = height - 75\n",
    "        plt.text(label.get_x() + label.get_width()/2., label_position,\n",
    "                 height, color='white', ha='center', va='bottom')\n",
    "        \n",
    "label_function(bar_chart)\n",
    "\n",
    "#set tick locations\n",
    "plt.xticks(np.arange(min(years), max(years+1), 1.0))\n",
    "\n",
    "#set labels\n",
    "plt.title(\"California vs. Crime Rate\")\n",
    "plt.xlabel(\"Crime Count\")\n",
    "plt.ylabel(\"Year\")"
   ]
  },
  {
   "cell_type": "code",
   "execution_count": null,
   "metadata": {},
   "outputs": [],
   "source": []
  }
 ],
 "metadata": {
  "kernelspec": {
   "display_name": "Python (PythonData)",
   "language": "python",
   "name": "pythondata"
  },
  "language_info": {
   "codemirror_mode": {
    "name": "ipython",
    "version": 3
   },
   "file_extension": ".py",
   "mimetype": "text/x-python",
   "name": "python",
   "nbconvert_exporter": "python",
   "pygments_lexer": "ipython3",
   "version": "3.7.1"
  }
 },
 "nbformat": 4,
 "nbformat_minor": 2
}
